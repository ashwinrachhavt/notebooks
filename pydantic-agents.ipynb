{
 "cells": [
  {
   "cell_type": "code",
   "execution_count": 1,
   "id": "d8e6632a",
   "metadata": {},
   "outputs": [],
   "source": [
    "import nest_asyncio\n",
    "nest_asyncio.apply()"
   ]
  },
  {
   "cell_type": "code",
   "execution_count": 2,
   "id": "63abdff6",
   "metadata": {},
   "outputs": [
    {
     "name": "stdout",
     "output_type": "stream",
     "text": [
      "Rome.\n"
     ]
    }
   ],
   "source": [
    "from pydantic_ai import Agent, AgentRunResultEvent, AgentStreamEvent\n",
    "\n",
    "agent = Agent('openai:gpt-5')\n",
    "\n",
    "result_sync = agent.run_sync('What is the capital of Italy?')\n",
    "print(result_sync.output)\n",
    "#> The capital of Italy is Rome.\n",
    "\n",
    "\n",
    "async def main():\n",
    "    result = await agent.run('What is the capital of France?')\n",
    "    print(result.output)\n",
    "    #> The capital of France is Paris.\n",
    "\n",
    "    async with agent.run_stream('What is the capital of the UK?') as response:\n",
    "        async for text in response.stream_text():\n",
    "            print(text)\n",
    "            #> The capital of\n",
    "            #> The capital of the UK is\n",
    "            #> The capital of the UK is London.\n",
    "\n",
    "    events: list[AgentStreamEvent | AgentRunResultEvent] = []\n",
    "    async for event in agent.run_stream_events('What is the capital of Mexico?'):\n",
    "        events.append(event)\n",
    "    print(events)\n",
    "    \"\"\"\n",
    "    [\n",
    "        PartStartEvent(index=0, part=TextPart(content='The capital of ')),\n",
    "        FinalResultEvent(tool_name=None, tool_call_id=None),\n",
    "        PartDeltaEvent(index=0, delta=TextPartDelta(content_delta='Mexico is Mexico ')),\n",
    "        PartDeltaEvent(index=0, delta=TextPartDelta(content_delta='City.')),\n",
    "        PartEndEvent(\n",
    "            index=0, part=TextPart(content='The capital of Mexico is Mexico City.')\n",
    "        ),\n",
    "        AgentRunResultEvent(\n",
    "            result=AgentRunResult(output='The capital of Mexico is Mexico City.')\n",
    "        ),\n",
    "    ]\n",
    "    \"\"\""
   ]
  },
  {
   "cell_type": "code",
   "execution_count": null,
   "id": "6dd42760",
   "metadata": {},
   "outputs": [],
   "source": []
  }
 ],
 "metadata": {
  "kernelspec": {
   "display_name": "venv",
   "language": "python",
   "name": "python3"
  },
  "language_info": {
   "codemirror_mode": {
    "name": "ipython",
    "version": 3
   },
   "file_extension": ".py",
   "mimetype": "text/x-python",
   "name": "python",
   "nbconvert_exporter": "python",
   "pygments_lexer": "ipython3",
   "version": "3.11.7"
  }
 },
 "nbformat": 4,
 "nbformat_minor": 5
}
