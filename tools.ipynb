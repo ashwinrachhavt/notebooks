{
 "cells": [
  {
   "cell_type": "markdown",
   "metadata": {},
   "source": [
    "There are a number of ways to register tools with an agent:\n",
    "- via the @agent.tool decorator - for tools that need access to the agent context\n",
    "- via the @agent.tool_plan decorator - for tools that do not need access to the agent context\n",
    "- via the tools keyword argument to Agent which can take either plain functions or instances of Tool"
   ]
  },
  {
   "cell_type": "code",
   "execution_count": 17,
   "metadata": {},
   "outputs": [],
   "source": [
    "import random\n",
    "import asyncio\n",
    "from pprint import pprint\n",
    "from pydantic_ai import Agent, RunContext"
   ]
  },
  {
   "cell_type": "code",
   "execution_count": 11,
   "metadata": {},
   "outputs": [],
   "source": [
    "import nest_asyncio\n",
    "nest_asyncio.apply()"
   ]
  },
  {
   "cell_type": "code",
   "execution_count": 15,
   "metadata": {},
   "outputs": [
    {
     "name": "stdout",
     "output_type": "stream",
     "text": [
      "Anne, you rolled a 5.  Better luck next time!\n",
      "\n"
     ]
    }
   ],
   "source": [
    "\n",
    "\n",
    "agent = Agent(\n",
    "    'google-gla:gemini-1.5-flash',  \n",
    "    deps_type=str,  \n",
    "    system_prompt=(\n",
    "        \"You're a dice game, you should roll the die and see if the number \"\n",
    "        \"you get back matches the user's guess. If so, tell them they're a winner. \"\n",
    "        \"Use the player's name in the response.\"\n",
    "    ),\n",
    ")\n",
    "\n",
    "\n",
    "@agent.tool_plain  \n",
    "def roll_die() -> str:\n",
    "    \"\"\"Roll a six-sided die and return the result.\"\"\"\n",
    "    return str(random.randint(1, 6))\n",
    "\n",
    "\n",
    "@agent.tool  \n",
    "def get_player_name(ctx: RunContext[str]) -> str:\n",
    "    \"\"\"Get the player's name.\"\"\"\n",
    "    return ctx.deps\n",
    "\n",
    "\n",
    "dice_result = agent.run_sync('My guess is 4', deps='Anne')  \n",
    "print(dice_result.data)"
   ]
  },
  {
   "cell_type": "code",
   "execution_count": 18,
   "metadata": {},
   "outputs": [
    {
     "name": "stdout",
     "output_type": "stream",
     "text": [
      "[ModelRequest(parts=[SystemPromptPart(content=\"You're a dice game, you should \"\n",
      "                                              'roll the die and see if the '\n",
      "                                              'number you get back matches the '\n",
      "                                              \"user's guess. If so, tell them \"\n",
      "                                              \"they're a winner. Use the \"\n",
      "                                              \"player's name in the response.\",\n",
      "                                      dynamic_ref=None,\n",
      "                                      part_kind='system-prompt'),\n",
      "                     UserPromptPart(content='My guess is 4',\n",
      "                                    timestamp=datetime.datetime(2025, 2, 11, 3, 3, 55, 484513, tzinfo=datetime.timezone.utc),\n",
      "                                    part_kind='user-prompt')],\n",
      "              kind='request'),\n",
      " ModelResponse(parts=[ToolCallPart(tool_name='get_player_name',\n",
      "                                   args={},\n",
      "                                   tool_call_id=None,\n",
      "                                   part_kind='tool-call')],\n",
      "               model_name='gemini-1.5-flash',\n",
      "               timestamp=datetime.datetime(2025, 2, 11, 3, 3, 55, 850989, tzinfo=datetime.timezone.utc),\n",
      "               kind='response'),\n",
      " ModelRequest(parts=[ToolReturnPart(tool_name='get_player_name',\n",
      "                                    content='Anne',\n",
      "                                    tool_call_id=None,\n",
      "                                    timestamp=datetime.datetime(2025, 2, 11, 3, 3, 55, 852051, tzinfo=datetime.timezone.utc),\n",
      "                                    part_kind='tool-return')],\n",
      "              kind='request'),\n",
      " ModelResponse(parts=[ToolCallPart(tool_name='roll_die',\n",
      "                                   args={},\n",
      "                                   tool_call_id=None,\n",
      "                                   part_kind='tool-call')],\n",
      "               model_name='gemini-1.5-flash',\n",
      "               timestamp=datetime.datetime(2025, 2, 11, 3, 3, 56, 225330, tzinfo=datetime.timezone.utc),\n",
      "               kind='response'),\n",
      " ModelRequest(parts=[ToolReturnPart(tool_name='roll_die',\n",
      "                                    content='5',\n",
      "                                    tool_call_id=None,\n",
      "                                    timestamp=datetime.datetime(2025, 2, 11, 3, 3, 56, 226444, tzinfo=datetime.timezone.utc),\n",
      "                                    part_kind='tool-return')],\n",
      "              kind='request'),\n",
      " ModelResponse(parts=[TextPart(content='Anne, you rolled a 5.  Better luck '\n",
      "                                       'next time!\\n',\n",
      "                               part_kind='text')],\n",
      "               model_name='gemini-1.5-flash',\n",
      "               timestamp=datetime.datetime(2025, 2, 11, 3, 3, 56, 564352, tzinfo=datetime.timezone.utc),\n",
      "               kind='response')]\n"
     ]
    }
   ],
   "source": [
    "pprint(dice_result.all_messages())"
   ]
  },
  {
   "cell_type": "code",
   "execution_count": null,
   "metadata": {},
   "outputs": [],
   "source": []
  }
 ],
 "metadata": {
  "kernelspec": {
   "display_name": "venv",
   "language": "python",
   "name": "python3"
  },
  "language_info": {
   "codemirror_mode": {
    "name": "ipython",
    "version": 3
   },
   "file_extension": ".py",
   "mimetype": "text/x-python",
   "name": "python",
   "nbconvert_exporter": "python",
   "pygments_lexer": "ipython3",
   "version": "3.12.1"
  }
 },
 "nbformat": 4,
 "nbformat_minor": 2
}
