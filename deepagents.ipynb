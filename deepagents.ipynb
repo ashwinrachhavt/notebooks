{
 "cells": [
  {
   "cell_type": "code",
   "execution_count": 3,
   "id": "c2fb057d",
   "metadata": {},
   "outputs": [],
   "source": [
    "import os\n",
    "from typing import Literal\n",
    "from tavily import TavilyClient\n",
    "from deepagents import create_deep_agent\n",
    "from langchain.chat_models import init_chat_model\n",
    "\n",
    "\n",
    "tavily_client = TavilyClient(api_key=os.environ[\"TAVILY_API_KEY\"])\n",
    "model = init_chat_model(\"openai:gpt-5-mini\")\n",
    "\n",
    "\n",
    "# Web search tool\n",
    "def internet_search(\n",
    "    query: str,\n",
    "    max_results: int = 5,\n",
    "    topic: Literal[\"general\", \"news\", \"finance\"] = \"general\",\n",
    "    include_raw_content: bool = False,\n",
    "):\n",
    "    \"\"\"Run a web search\"\"\"\n",
    "    return tavily_client.search(\n",
    "        query,\n",
    "        max_results=max_results,\n",
    "        include_raw_content=include_raw_content,\n",
    "        topic=topic,\n",
    "    )\n",
    "\n",
    "\n",
    "# System prompt to steer the agent to be an expert researcher\n",
    "research_instructions = \"\"\"You are an expert researcher. Your job is to conduct thorough research, and then write a polished report.\n",
    "\n",
    "You have access to an internet search tool as your primary means of gathering information.\n",
    "\n",
    "## `internet_search`\n",
    "\n",
    "Use this to run an internet search for a given query. You can specify the max number of results to return, the topic, and whether raw content should be included.\n",
    "\"\"\"\n",
    "\n",
    "# Create the deep agent\n",
    "agent = create_deep_agent(\n",
    "    model=model,\n",
    "    tools=[internet_search],\n",
    "    system_prompt=research_instructions,\n",
    ")\n",
    "\n",
    "# Invoke the agent\n",
    "result = agent.invoke({\"messages\": [{\"role\": \"user\", \"content\": \"What is langgraph?\"}]})"
   ]
  },
  {
   "cell_type": "code",
   "execution_count": 6,
   "id": "6bdaaff9",
   "metadata": {},
   "outputs": [
    {
     "name": "stdout",
     "output_type": "stream",
     "text": [
      "dict_keys(['messages'])\n"
     ]
    }
   ],
   "source": [
    "print(result.keys())"
   ]
  },
  {
   "cell_type": "code",
   "execution_count": 13,
   "id": "0862602c",
   "metadata": {},
   "outputs": [
    {
     "name": "stdout",
     "output_type": "stream",
     "text": [
      "Short answer\n",
      "- LangGraph is an open-source, Python-based orchestration framework (built by the LangChain team) for creating stateful, long-running, graph-based AI workflows and agents. It treats an agent/workflow as a graph of nodes and edges that pass and update a shared state, enabling complex control flow, loops, streaming, human-in-the-loop, durable execution, and production deployment.\n",
      "\n",
      "Key ideas and features\n",
      "- StateGraph: workflows are explicit graphs where each node is a computation/step and the graph maintains a typed state object that flows between nodes.  \n",
      "- Nodes & edges: nodes run code or call LLMs/tools; edges (including conditional edges) route execution to the next node.  \n",
      "- Stateful & long-running: supports persistent state, checkpoints, and “time travel” / replay for debugging.  \n",
      "- Orchestration primitives: streaming intermediate outputs, parallelization, breakpoints, human-in-the-loop actions.  \n",
      "- Memory & stores: built-in patterns for short- and long-term memory and persistence.  \n",
      "- Deployment & tooling: CLI, local API server, observability and deployment integrations (LangGraph Studio / LangGraph API server / LangSmith tooling).  \n",
      "- Low-level control: intended as a lower-level orchestration/runtime than typical LangChain high-level agents — use it when you need explicit control over state, routing, retries, streaming, or multi-agent workflows.\n",
      "\n",
      "Typical use cases\n",
      "- Complex multi-step agents (research assistants, multi-tool pipelines)  \n",
      "- Multi-agent systems and sub-agent orchestration  \n",
      "- Workflows that require loops, conditional branching, and durable state across many steps or time  \n",
      "- Production agent deployments with observability, human handoffs, and streaming responses\n",
      "\n",
      "How it differs from LangChain agents\n",
      "- LangChain provides many higher-level primitives and \"chains\" for common LLM patterns. LangGraph focuses on the orchestration runtime: explicit graphs, durable execution, fine-grained control over state and routing. They integrate; LangGraph is often used as the underlying runtime for complex agent architectures.\n",
      "\n",
      "Quick start (conceptual)\n",
      "- Install: pip install langgraph  \n",
      "- Create a StateGraph, add nodes and edges, run inputs through the graph. Example (conceptual):\n",
      "  from typing import TypedDict\n",
      "  from langgraph.graph import StateGraph, END\n",
      "\n",
      "  class State(TypedDict):\n",
      "      question: str\n",
      "\n",
      "  workflow = StateGraph(State)\n",
      "\n",
      "  def classify_node(state):\n",
      "      return {\"question\": state[\"question\"], \"classification\": \"greeting\"}\n",
      "\n",
      "  workflow.add_node(\"classify\", classify_node)\n",
      "  workflow.add_edge(\"classify\", END)\n",
      "\n",
      "Where to learn more\n",
      "- Official docs and tutorials (LangChain / LangGraph docs and GitHub pages) — they include guided tutorials, examples, and a LangChain Academy intro course.\n",
      "\n",
      "If you want, I can:\n",
      "- show a short runnable example using a real LLM/tool,\n",
      "- compare LangGraph vs a plain LangChain agent for your specific use case, or\n",
      "- walk you through building a simple stateful chatbot with LangGraph. Which would you like?\n"
     ]
    }
   ],
   "source": [
    "print(result[\"messages\"][-1].content)"
   ]
  },
  {
   "cell_type": "code",
   "execution_count": null,
   "id": "e43c7baf",
   "metadata": {},
   "outputs": [],
   "source": []
  }
 ],
 "metadata": {
  "kernelspec": {
   "display_name": "venv",
   "language": "python",
   "name": "python3"
  },
  "language_info": {
   "codemirror_mode": {
    "name": "ipython",
    "version": 3
   },
   "file_extension": ".py",
   "mimetype": "text/x-python",
   "name": "python",
   "nbconvert_exporter": "python",
   "pygments_lexer": "ipython3",
   "version": "3.11.7"
  }
 },
 "nbformat": 4,
 "nbformat_minor": 5
}
